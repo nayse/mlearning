{
  "nbformat": 4,
  "nbformat_minor": 0,
  "metadata": {
    "colab": {
      "provenance": [],
      "include_colab_link": true
    },
    "kernelspec": {
      "name": "python3",
      "display_name": "Python 3"
    },
    "language_info": {
      "name": "python"
    }
  },
  "cells": [
    {
      "cell_type": "markdown",
      "metadata": {
        "id": "view-in-github",
        "colab_type": "text"
      },
      "source": [
        "<a href=\"https://colab.research.google.com/github/nayse/mlearning/blob/main/Desafio_3.ipynb\" target=\"_parent\"><img src=\"https://colab.research.google.com/assets/colab-badge.svg\" alt=\"Open In Colab\"/></a>"
      ]
    },
    {
      "cell_type": "markdown",
      "source": [
        "## Introdução\n",
        "Desafio 3 - Aprendizado de Máquina (Equipamento defeituoso)\n",
        "\n",
        "A planilha anexa contém informações sobre registros de sensores de equipamentos, com um deles apresentando defeito. Este trabalho visa identificar qual é o equipamento defeituoso.\n",
        "\n"
      ],
      "metadata": {
        "id": "57qAxZ_-4g6K"
      }
    },
    {
      "cell_type": "markdown",
      "source": [
        "## Análise Exploratória de Dados\n",
        "Carregando o conjunto de dados e visualizando:\n"
      ],
      "metadata": {
        "id": "Caa9bg7I5d8R"
      }
    },
    {
      "cell_type": "code",
      "source": [
        "import pandas as pd\n",
        "from sklearn.preprocessing import MinMaxScaler\n",
        "from sklearn.ensemble import IsolationForest"
      ],
      "metadata": {
        "id": "KrHHABz25hWo"
      },
      "execution_count": null,
      "outputs": []
    },
    {
      "cell_type": "code",
      "source": [
        "#importando o dataset\n",
        "!git clone https://github.com/nayse/mlearning\n",
        "\n",
        "dados = pd.read_excel('mlearning/failing_equipment.xlsx', index_col=0)"
      ],
      "metadata": {
        "colab": {
          "base_uri": "https://localhost:8080/"
        },
        "id": "gH5NDCEQ5rXM",
        "outputId": "c3c65221-a151-46ec-9792-f60246317bf6"
      },
      "execution_count": null,
      "outputs": [
        {
          "output_type": "stream",
          "name": "stdout",
          "text": [
            "fatal: destination path 'mlearning' already exists and is not an empty directory.\n"
          ]
        }
      ]
    },
    {
      "cell_type": "code",
      "source": [
        "print(\"Tamanho do DataFrame:\", dados.shape)\n",
        "\n",
        "dados.head(17)"
      ],
      "metadata": {
        "colab": {
          "base_uri": "https://localhost:8080/",
          "height": 599
        },
        "id": "n_SBsred5nE5",
        "outputId": "1a4b23ae-eb5e-4e19-e9fc-e2547d0fe538"
      },
      "execution_count": null,
      "outputs": [
        {
          "output_type": "stream",
          "name": "stdout",
          "text": [
            "Tamanho do DataFrame: (17, 4)\n"
          ]
        },
        {
          "output_type": "execute_result",
          "data": {
            "text/plain": [
              "         Object 1  Object 2  Object 3  Object 4\n",
              "Band 1        375       135       458       475\n",
              "Band 2         57        47        53        73\n",
              "Band 3        245       267       242       227\n",
              "Band 4       1472      1494      1462      1582\n",
              "Band 5        105        66       103       103\n",
              "Band 6         54        41        62        64\n",
              "Band 7        193       209       184       235\n",
              "Band 8        147        93       122       160\n",
              "Band 9       1102       674       957      1137\n",
              "Band 10       720      1033       566       874\n",
              "Band 11       253       143       171       265\n",
              "Band 12       685       586       750       803\n",
              "Band 13       488       355       418       570\n",
              "Band 14       198       187       220       203\n",
              "Band 15       360       334       337       365\n",
              "Band 16      1374      1506      1572      1256\n",
              "Band 17       156       139       147       175"
            ],
            "text/html": [
              "\n",
              "  <div id=\"df-9efd3bda-0fa1-45db-8030-5b6bd32be272\" class=\"colab-df-container\">\n",
              "    <div>\n",
              "<style scoped>\n",
              "    .dataframe tbody tr th:only-of-type {\n",
              "        vertical-align: middle;\n",
              "    }\n",
              "\n",
              "    .dataframe tbody tr th {\n",
              "        vertical-align: top;\n",
              "    }\n",
              "\n",
              "    .dataframe thead th {\n",
              "        text-align: right;\n",
              "    }\n",
              "</style>\n",
              "<table border=\"1\" class=\"dataframe\">\n",
              "  <thead>\n",
              "    <tr style=\"text-align: right;\">\n",
              "      <th></th>\n",
              "      <th>Object 1</th>\n",
              "      <th>Object 2</th>\n",
              "      <th>Object 3</th>\n",
              "      <th>Object 4</th>\n",
              "    </tr>\n",
              "  </thead>\n",
              "  <tbody>\n",
              "    <tr>\n",
              "      <th>Band 1</th>\n",
              "      <td>375</td>\n",
              "      <td>135</td>\n",
              "      <td>458</td>\n",
              "      <td>475</td>\n",
              "    </tr>\n",
              "    <tr>\n",
              "      <th>Band 2</th>\n",
              "      <td>57</td>\n",
              "      <td>47</td>\n",
              "      <td>53</td>\n",
              "      <td>73</td>\n",
              "    </tr>\n",
              "    <tr>\n",
              "      <th>Band 3</th>\n",
              "      <td>245</td>\n",
              "      <td>267</td>\n",
              "      <td>242</td>\n",
              "      <td>227</td>\n",
              "    </tr>\n",
              "    <tr>\n",
              "      <th>Band 4</th>\n",
              "      <td>1472</td>\n",
              "      <td>1494</td>\n",
              "      <td>1462</td>\n",
              "      <td>1582</td>\n",
              "    </tr>\n",
              "    <tr>\n",
              "      <th>Band 5</th>\n",
              "      <td>105</td>\n",
              "      <td>66</td>\n",
              "      <td>103</td>\n",
              "      <td>103</td>\n",
              "    </tr>\n",
              "    <tr>\n",
              "      <th>Band 6</th>\n",
              "      <td>54</td>\n",
              "      <td>41</td>\n",
              "      <td>62</td>\n",
              "      <td>64</td>\n",
              "    </tr>\n",
              "    <tr>\n",
              "      <th>Band 7</th>\n",
              "      <td>193</td>\n",
              "      <td>209</td>\n",
              "      <td>184</td>\n",
              "      <td>235</td>\n",
              "    </tr>\n",
              "    <tr>\n",
              "      <th>Band 8</th>\n",
              "      <td>147</td>\n",
              "      <td>93</td>\n",
              "      <td>122</td>\n",
              "      <td>160</td>\n",
              "    </tr>\n",
              "    <tr>\n",
              "      <th>Band 9</th>\n",
              "      <td>1102</td>\n",
              "      <td>674</td>\n",
              "      <td>957</td>\n",
              "      <td>1137</td>\n",
              "    </tr>\n",
              "    <tr>\n",
              "      <th>Band 10</th>\n",
              "      <td>720</td>\n",
              "      <td>1033</td>\n",
              "      <td>566</td>\n",
              "      <td>874</td>\n",
              "    </tr>\n",
              "    <tr>\n",
              "      <th>Band 11</th>\n",
              "      <td>253</td>\n",
              "      <td>143</td>\n",
              "      <td>171</td>\n",
              "      <td>265</td>\n",
              "    </tr>\n",
              "    <tr>\n",
              "      <th>Band 12</th>\n",
              "      <td>685</td>\n",
              "      <td>586</td>\n",
              "      <td>750</td>\n",
              "      <td>803</td>\n",
              "    </tr>\n",
              "    <tr>\n",
              "      <th>Band 13</th>\n",
              "      <td>488</td>\n",
              "      <td>355</td>\n",
              "      <td>418</td>\n",
              "      <td>570</td>\n",
              "    </tr>\n",
              "    <tr>\n",
              "      <th>Band 14</th>\n",
              "      <td>198</td>\n",
              "      <td>187</td>\n",
              "      <td>220</td>\n",
              "      <td>203</td>\n",
              "    </tr>\n",
              "    <tr>\n",
              "      <th>Band 15</th>\n",
              "      <td>360</td>\n",
              "      <td>334</td>\n",
              "      <td>337</td>\n",
              "      <td>365</td>\n",
              "    </tr>\n",
              "    <tr>\n",
              "      <th>Band 16</th>\n",
              "      <td>1374</td>\n",
              "      <td>1506</td>\n",
              "      <td>1572</td>\n",
              "      <td>1256</td>\n",
              "    </tr>\n",
              "    <tr>\n",
              "      <th>Band 17</th>\n",
              "      <td>156</td>\n",
              "      <td>139</td>\n",
              "      <td>147</td>\n",
              "      <td>175</td>\n",
              "    </tr>\n",
              "  </tbody>\n",
              "</table>\n",
              "</div>\n",
              "    <div class=\"colab-df-buttons\">\n",
              "\n",
              "  <div class=\"colab-df-container\">\n",
              "    <button class=\"colab-df-convert\" onclick=\"convertToInteractive('df-9efd3bda-0fa1-45db-8030-5b6bd32be272')\"\n",
              "            title=\"Convert this dataframe to an interactive table.\"\n",
              "            style=\"display:none;\">\n",
              "\n",
              "  <svg xmlns=\"http://www.w3.org/2000/svg\" height=\"24px\" viewBox=\"0 -960 960 960\">\n",
              "    <path d=\"M120-120v-720h720v720H120Zm60-500h600v-160H180v160Zm220 220h160v-160H400v160Zm0 220h160v-160H400v160ZM180-400h160v-160H180v160Zm440 0h160v-160H620v160ZM180-180h160v-160H180v160Zm440 0h160v-160H620v160Z\"/>\n",
              "  </svg>\n",
              "    </button>\n",
              "\n",
              "  <style>\n",
              "    .colab-df-container {\n",
              "      display:flex;\n",
              "      gap: 12px;\n",
              "    }\n",
              "\n",
              "    .colab-df-convert {\n",
              "      background-color: #E8F0FE;\n",
              "      border: none;\n",
              "      border-radius: 50%;\n",
              "      cursor: pointer;\n",
              "      display: none;\n",
              "      fill: #1967D2;\n",
              "      height: 32px;\n",
              "      padding: 0 0 0 0;\n",
              "      width: 32px;\n",
              "    }\n",
              "\n",
              "    .colab-df-convert:hover {\n",
              "      background-color: #E2EBFA;\n",
              "      box-shadow: 0px 1px 2px rgba(60, 64, 67, 0.3), 0px 1px 3px 1px rgba(60, 64, 67, 0.15);\n",
              "      fill: #174EA6;\n",
              "    }\n",
              "\n",
              "    .colab-df-buttons div {\n",
              "      margin-bottom: 4px;\n",
              "    }\n",
              "\n",
              "    [theme=dark] .colab-df-convert {\n",
              "      background-color: #3B4455;\n",
              "      fill: #D2E3FC;\n",
              "    }\n",
              "\n",
              "    [theme=dark] .colab-df-convert:hover {\n",
              "      background-color: #434B5C;\n",
              "      box-shadow: 0px 1px 3px 1px rgba(0, 0, 0, 0.15);\n",
              "      filter: drop-shadow(0px 1px 2px rgba(0, 0, 0, 0.3));\n",
              "      fill: #FFFFFF;\n",
              "    }\n",
              "  </style>\n",
              "\n",
              "    <script>\n",
              "      const buttonEl =\n",
              "        document.querySelector('#df-9efd3bda-0fa1-45db-8030-5b6bd32be272 button.colab-df-convert');\n",
              "      buttonEl.style.display =\n",
              "        google.colab.kernel.accessAllowed ? 'block' : 'none';\n",
              "\n",
              "      async function convertToInteractive(key) {\n",
              "        const element = document.querySelector('#df-9efd3bda-0fa1-45db-8030-5b6bd32be272');\n",
              "        const dataTable =\n",
              "          await google.colab.kernel.invokeFunction('convertToInteractive',\n",
              "                                                    [key], {});\n",
              "        if (!dataTable) return;\n",
              "\n",
              "        const docLinkHtml = 'Like what you see? Visit the ' +\n",
              "          '<a target=\"_blank\" href=https://colab.research.google.com/notebooks/data_table.ipynb>data table notebook</a>'\n",
              "          + ' to learn more about interactive tables.';\n",
              "        element.innerHTML = '';\n",
              "        dataTable['output_type'] = 'display_data';\n",
              "        await google.colab.output.renderOutput(dataTable, element);\n",
              "        const docLink = document.createElement('div');\n",
              "        docLink.innerHTML = docLinkHtml;\n",
              "        element.appendChild(docLink);\n",
              "      }\n",
              "    </script>\n",
              "  </div>\n",
              "\n",
              "\n",
              "<div id=\"df-5050f3f5-9910-4136-abf1-b17b2daaaba7\">\n",
              "  <button class=\"colab-df-quickchart\" onclick=\"quickchart('df-5050f3f5-9910-4136-abf1-b17b2daaaba7')\"\n",
              "            title=\"Suggest charts\"\n",
              "            style=\"display:none;\">\n",
              "\n",
              "<svg xmlns=\"http://www.w3.org/2000/svg\" height=\"24px\"viewBox=\"0 0 24 24\"\n",
              "     width=\"24px\">\n",
              "    <g>\n",
              "        <path d=\"M19 3H5c-1.1 0-2 .9-2 2v14c0 1.1.9 2 2 2h14c1.1 0 2-.9 2-2V5c0-1.1-.9-2-2-2zM9 17H7v-7h2v7zm4 0h-2V7h2v10zm4 0h-2v-4h2v4z\"/>\n",
              "    </g>\n",
              "</svg>\n",
              "  </button>\n",
              "\n",
              "<style>\n",
              "  .colab-df-quickchart {\n",
              "      --bg-color: #E8F0FE;\n",
              "      --fill-color: #1967D2;\n",
              "      --hover-bg-color: #E2EBFA;\n",
              "      --hover-fill-color: #174EA6;\n",
              "      --disabled-fill-color: #AAA;\n",
              "      --disabled-bg-color: #DDD;\n",
              "  }\n",
              "\n",
              "  [theme=dark] .colab-df-quickchart {\n",
              "      --bg-color: #3B4455;\n",
              "      --fill-color: #D2E3FC;\n",
              "      --hover-bg-color: #434B5C;\n",
              "      --hover-fill-color: #FFFFFF;\n",
              "      --disabled-bg-color: #3B4455;\n",
              "      --disabled-fill-color: #666;\n",
              "  }\n",
              "\n",
              "  .colab-df-quickchart {\n",
              "    background-color: var(--bg-color);\n",
              "    border: none;\n",
              "    border-radius: 50%;\n",
              "    cursor: pointer;\n",
              "    display: none;\n",
              "    fill: var(--fill-color);\n",
              "    height: 32px;\n",
              "    padding: 0;\n",
              "    width: 32px;\n",
              "  }\n",
              "\n",
              "  .colab-df-quickchart:hover {\n",
              "    background-color: var(--hover-bg-color);\n",
              "    box-shadow: 0 1px 2px rgba(60, 64, 67, 0.3), 0 1px 3px 1px rgba(60, 64, 67, 0.15);\n",
              "    fill: var(--button-hover-fill-color);\n",
              "  }\n",
              "\n",
              "  .colab-df-quickchart-complete:disabled,\n",
              "  .colab-df-quickchart-complete:disabled:hover {\n",
              "    background-color: var(--disabled-bg-color);\n",
              "    fill: var(--disabled-fill-color);\n",
              "    box-shadow: none;\n",
              "  }\n",
              "\n",
              "  .colab-df-spinner {\n",
              "    border: 2px solid var(--fill-color);\n",
              "    border-color: transparent;\n",
              "    border-bottom-color: var(--fill-color);\n",
              "    animation:\n",
              "      spin 1s steps(1) infinite;\n",
              "  }\n",
              "\n",
              "  @keyframes spin {\n",
              "    0% {\n",
              "      border-color: transparent;\n",
              "      border-bottom-color: var(--fill-color);\n",
              "      border-left-color: var(--fill-color);\n",
              "    }\n",
              "    20% {\n",
              "      border-color: transparent;\n",
              "      border-left-color: var(--fill-color);\n",
              "      border-top-color: var(--fill-color);\n",
              "    }\n",
              "    30% {\n",
              "      border-color: transparent;\n",
              "      border-left-color: var(--fill-color);\n",
              "      border-top-color: var(--fill-color);\n",
              "      border-right-color: var(--fill-color);\n",
              "    }\n",
              "    40% {\n",
              "      border-color: transparent;\n",
              "      border-right-color: var(--fill-color);\n",
              "      border-top-color: var(--fill-color);\n",
              "    }\n",
              "    60% {\n",
              "      border-color: transparent;\n",
              "      border-right-color: var(--fill-color);\n",
              "    }\n",
              "    80% {\n",
              "      border-color: transparent;\n",
              "      border-right-color: var(--fill-color);\n",
              "      border-bottom-color: var(--fill-color);\n",
              "    }\n",
              "    90% {\n",
              "      border-color: transparent;\n",
              "      border-bottom-color: var(--fill-color);\n",
              "    }\n",
              "  }\n",
              "</style>\n",
              "\n",
              "  <script>\n",
              "    async function quickchart(key) {\n",
              "      const quickchartButtonEl =\n",
              "        document.querySelector('#' + key + ' button');\n",
              "      quickchartButtonEl.disabled = true;  // To prevent multiple clicks.\n",
              "      quickchartButtonEl.classList.add('colab-df-spinner');\n",
              "      try {\n",
              "        const charts = await google.colab.kernel.invokeFunction(\n",
              "            'suggestCharts', [key], {});\n",
              "      } catch (error) {\n",
              "        console.error('Error during call to suggestCharts:', error);\n",
              "      }\n",
              "      quickchartButtonEl.classList.remove('colab-df-spinner');\n",
              "      quickchartButtonEl.classList.add('colab-df-quickchart-complete');\n",
              "    }\n",
              "    (() => {\n",
              "      let quickchartButtonEl =\n",
              "        document.querySelector('#df-5050f3f5-9910-4136-abf1-b17b2daaaba7 button');\n",
              "      quickchartButtonEl.style.display =\n",
              "        google.colab.kernel.accessAllowed ? 'block' : 'none';\n",
              "    })();\n",
              "  </script>\n",
              "</div>\n",
              "    </div>\n",
              "  </div>\n"
            ]
          },
          "metadata": {},
          "execution_count": 8
        }
      ]
    },
    {
      "cell_type": "markdown",
      "source": [
        "##Abordagem Adotada\n",
        "\n",
        "A abordagem adotada no código envolve o uso do algoritmo de Isolation Forest para detecção de anomalias, com o objetivo de identificar objetos defeituosos em um conjunto de dados."
      ],
      "metadata": {
        "id": "e3lyG2_e7Gr8"
      }
    },
    {
      "cell_type": "markdown",
      "source": [
        "A abordagem é uma maneira de utilizar o Isolation Forest para encontrar anomalias nos dados, o algoritmo presume que objetos defeituosos são considerados anômalos em relação aos objetos normais. Este método é útil em situações em que se quer identificar objetos que se destacam como potencialmente defeituosos."
      ],
      "metadata": {
        "id": "zYrclDKU7S0B"
      }
    },
    {
      "cell_type": "markdown",
      "source": [
        "**Aplicação da Técnica**\n",
        "\n",
        "\n",
        "MinMaxScaler é uma técnica específica de normalização que realiza a transformação linear nos dados, dimensionando cada recurso para um intervalo específico.\n",
        "\n",
        "\n"
      ],
      "metadata": {
        "id": "gPoxrH6f7WQK"
      }
    },
    {
      "cell_type": "code",
      "source": [
        "scaler = MinMaxScaler()\n",
        "dados_normalizados = scaler.fit_transform(dados)\n"
      ],
      "metadata": {
        "id": "HYJ5wTVmrSOy"
      },
      "execution_count": null,
      "outputs": []
    },
    {
      "cell_type": "markdown",
      "source": [
        "\n",
        "O Isolation Forest é um algoritmo de detecção de anomalias baseado em árvores de decisão. Ele isola as instâncias de dados em regiões específicas, tornando mais fácil identificar anomalias, uma vez que as instâncias normais devem exigir mais divisões para serem isoladas."
      ],
      "metadata": {
        "id": "AVj9vkL4rusA"
      }
    },
    {
      "cell_type": "code",
      "source": [
        "isolation_forest = IsolationForest(contamination=0.1, random_state=42)\n",
        "dados['Anomaly'] = isolation_forest.fit_predict(dados_normalizados)"
      ],
      "metadata": {
        "id": "lHTVfw-g-16A"
      },
      "execution_count": null,
      "outputs": []
    },
    {
      "cell_type": "markdown",
      "source": [
        "Esse trecho de código identifica o primeiro objeto defeituoso com base nos resultados da detecção de anomalias usando o Isolation Forest."
      ],
      "metadata": {
        "id": "Yv8yxFbFsKyR"
      }
    },
    {
      "cell_type": "code",
      "source": [
        "objeto_defeituoso = dados[dados['Anomaly'] == -1].index[0].split()[-1]\n"
      ],
      "metadata": {
        "id": "UBwbD0eLrZtj"
      },
      "execution_count": null,
      "outputs": []
    },
    {
      "cell_type": "markdown",
      "source": [
        "Objeto defeituoso identificado pelo Isolation Forest:\n",
        "\n",
        "Supondo que os Objects são os equipamentos e Bands são os valores de sensores."
      ],
      "metadata": {
        "id": "NIrSd-K2sifS"
      }
    },
    {
      "cell_type": "code",
      "source": [
        "print(f\"\\nEquipamento Defeituoso: {objeto_defeituoso}\")\n"
      ],
      "metadata": {
        "id": "VZVVwTvhrerZ",
        "colab": {
          "base_uri": "https://localhost:8080/"
        },
        "outputId": "24060491-a2c4-4542-ce61-5f27c75f9a7e"
      },
      "execution_count": null,
      "outputs": [
        {
          "output_type": "stream",
          "name": "stdout",
          "text": [
            "\n",
            "Equipamento Defeituoso: 4\n"
          ]
        }
      ]
    }
  ]
}