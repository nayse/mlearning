{
  "cells": [
    {
      "cell_type": "markdown",
      "metadata": {
        "id": "view-in-github",
        "colab_type": "text"
      },
      "source": [
        "<a href=\"https://colab.research.google.com/github/nayse/mlearning/blob/main/cnn.ipynb\" target=\"_parent\"><img src=\"https://colab.research.google.com/assets/colab-badge.svg\" alt=\"Open In Colab\"/></a>"
      ]
    },
    {
      "cell_type": "markdown",
      "metadata": {
        "id": "IvVymHNmpcWu"
      },
      "source": [
        "<center><a href=\"https://www.nvidia.com/dli\"> <img src=\"https://drive.google.com/uc?id=1J3bpGyJcz-7uOFkUNhvOBiReBCk-sUwR\" width=\"200\" </a></center>"
      ]
    },
    {
      "cell_type": "markdown",
      "metadata": {
        "id": "RaewxpBHpcW2"
      },
      "source": [
        "# Assessment"
      ]
    },
    {
      "cell_type": "markdown",
      "metadata": {
        "id": "WghLxVBvpcW4"
      },
      "source": [
        "In this assessment, you will train a new model that is able to recognize fresh and rotten fruit. You will need to get the model to a validation accuracy of `92%` in order to pass the assessment, though we challenge you to do even better if you can. You will have the use the skills that you learned in the previous exercises. Specifically, we suggest using some combination of transfer learning, data augmentation, and fine tuning. Once you have trained the model to be at least 92% accurate on the validation dataset, save your model, and then assess its accuracy. Let's get started!"
      ]
    },
    {
      "cell_type": "code",
      "source": [
        "from google.colab import drive\n",
        "drive.mount('/content/gdrive', force_remount=True)"
      ],
      "metadata": {
        "colab": {
          "base_uri": "https://localhost:8080/"
        },
        "id": "SF41JqbqV88U",
        "outputId": "57e3991d-fd2a-4216-f896-6ac43c04af29"
      },
      "execution_count": null,
      "outputs": [
        {
          "output_type": "stream",
          "name": "stdout",
          "text": [
            "Mounted at /content/gdrive\n"
          ]
        }
      ]
    },
    {
      "cell_type": "code",
      "source": [
        "%cd \"/content/gdrive/MyDrive/DISCIPLINAS/AM/desafio6/fruits\"\n",
        "\n",
        "!ls"
      ],
      "metadata": {
        "colab": {
          "base_uri": "https://localhost:8080/"
        },
        "id": "9qxqJ3HPWIzb",
        "outputId": "42106c2b-f5d1-4169-fc74-423d8adb8bb8"
      },
      "execution_count": null,
      "outputs": [
        {
          "output_type": "stream",
          "name": "stdout",
          "text": [
            "/content/gdrive/MyDrive/DISCIPLINAS/AM/desafio6/fruits\n",
            "train  valid\n"
          ]
        }
      ]
    },
    {
      "cell_type": "markdown",
      "metadata": {
        "id": "IdVsMEf-pcW7"
      },
      "source": [
        "## Load ImageNet Base Model"
      ]
    },
    {
      "cell_type": "code",
      "execution_count": null,
      "metadata": {
        "id": "Z79YZKIfpcW_"
      },
      "outputs": [],
      "source": [
        "from tensorflow import keras\n",
        "\n",
        "base_model = keras.applications.VGG16(\n",
        "    weights='imagenet',\n",
        "    input_shape=(224, 224, 3),\n",
        "    include_top=False)"
      ]
    },
    {
      "cell_type": "markdown",
      "metadata": {
        "id": "8LXIimk2pcXC"
      },
      "source": [
        "## Freeze Base Model"
      ]
    },
    {
      "cell_type": "code",
      "execution_count": null,
      "metadata": {
        "id": "xsmX_xqNpcXE"
      },
      "outputs": [],
      "source": [
        "#congelando as camadas do modelo base\n",
        "base_model.trainable = False\n"
      ]
    },
    {
      "cell_type": "markdown",
      "metadata": {
        "id": "jVp1MlWPpcXE"
      },
      "source": [
        "## Add Layers to Model"
      ]
    },
    {
      "cell_type": "code",
      "execution_count": null,
      "metadata": {
        "id": "d1GfrbwEpcXF"
      },
      "outputs": [],
      "source": [
        "inputs = keras.Input(shape=(224, 224, 3))\n",
        "\n",
        "x = base_model(inputs, training=False)\n",
        "\n",
        "# Add pooling layer or flatten layer\n",
        "x = keras.layers.GlobalAveragePooling2D()(x)\n",
        "\n",
        "# Add final dense layer\n",
        "outputs = keras.layers.Dense(6, activation = 'softmax')(x)\n",
        "\n",
        "# Combine inputs and outputs to create model\n",
        "model = keras.Model(inputs, outputs)"
      ]
    },
    {
      "cell_type": "code",
      "execution_count": null,
      "metadata": {
        "id": "9IDpffLnpcXG",
        "colab": {
          "base_uri": "https://localhost:8080/"
        },
        "outputId": "e081c817-b889-46f1-a62e-ec08d1a71bf1"
      },
      "outputs": [
        {
          "output_type": "stream",
          "name": "stdout",
          "text": [
            "Model: \"model\"\n",
            "_________________________________________________________________\n",
            " Layer (type)                Output Shape              Param #   \n",
            "=================================================================\n",
            " input_2 (InputLayer)        [(None, 224, 224, 3)]     0         \n",
            "                                                                 \n",
            " vgg16 (Functional)          (None, 7, 7, 512)         14714688  \n",
            "                                                                 \n",
            " global_average_pooling2d (  (None, 512)               0         \n",
            " GlobalAveragePooling2D)                                         \n",
            "                                                                 \n",
            " dense (Dense)               (None, 6)                 3078      \n",
            "                                                                 \n",
            "=================================================================\n",
            "Total params: 14717766 (56.14 MB)\n",
            "Trainable params: 3078 (12.02 KB)\n",
            "Non-trainable params: 14714688 (56.13 MB)\n",
            "_________________________________________________________________\n"
          ]
        }
      ],
      "source": [
        "model.summary()"
      ]
    },
    {
      "cell_type": "markdown",
      "metadata": {
        "id": "iGOO8BgwpcXH"
      },
      "source": [
        "## Compile Model"
      ]
    },
    {
      "cell_type": "code",
      "execution_count": null,
      "metadata": {
        "id": "Obg2LguRpcXH"
      },
      "outputs": [],
      "source": [
        "#compilando o modelo\n",
        "#configura a função de perda e as métricas para treinamento em várias categorias\n",
        "\n",
        "model.compile(loss = 'categorical_crossentropy' , metrics = ['accuracy'])\n"
      ]
    },
    {
      "cell_type": "markdown",
      "metadata": {
        "id": "Bg1DPxaepcXI"
      },
      "source": [
        "## Augment the Data"
      ]
    },
    {
      "cell_type": "code",
      "execution_count": null,
      "metadata": {
        "id": "Y7AuJYVKpcXJ"
      },
      "outputs": [],
      "source": [
        "from tensorflow.keras.preprocessing.image import ImageDataGenerator\n",
        "\n",
        "#cria um gerador de dados de imagem com aumentação\n",
        "datagen = ImageDataGenerator(\n",
        "    rotation_range=10,\n",
        "    zoom_range=0.1,\n",
        "    width_shift_range=0.1,\n",
        "    height_shift_range=0.1,\n",
        "    horizontal_flip=True,\n",
        "    vertical_flip=False,\n",
        ")\n"
      ]
    },
    {
      "cell_type": "markdown",
      "metadata": {
        "id": "vhnrPCMRpcXK"
      },
      "source": [
        "## Load Dataset"
      ]
    },
    {
      "cell_type": "code",
      "execution_count": null,
      "metadata": {
        "id": "wxtPHBo_pcXL",
        "colab": {
          "base_uri": "https://localhost:8080/"
        },
        "outputId": "4cde5b98-6690-4cc4-a4bd-84cb2b0b7364"
      },
      "outputs": [
        {
          "output_type": "stream",
          "name": "stdout",
          "text": [
            "/content/gdrive/MyDrive/DISCIPLINAS/AM/desafio6/fruits\n",
            "Found 1182 images belonging to 6 classes.\n",
            "Found 329 images belonging to 6 classes.\n"
          ]
        }
      ],
      "source": [
        "# carregando dataset de teste\n",
        "\n",
        "%cd \"/content/gdrive/MyDrive/DISCIPLINAS/AM/desafio6/fruits\"\n",
        "\n",
        "\n",
        "\n",
        "train_it = datagen.flow_from_directory(\"/content/gdrive/MyDrive/DISCIPLINAS/AM/desafio6/fruits/train\",\n",
        "                                       target_size=(224, 224),\n",
        "                                       color_mode='rgb',\n",
        "                                       class_mode=\"categorical\")\n",
        "# carregando dataset de validação\n",
        "valid_it = datagen.flow_from_directory(\"/content/gdrive/MyDrive/DISCIPLINAS/AM/desafio6/fruits/valid\",\n",
        "                                      target_size=(224,224),\n",
        "                                      color_mode='rgb',\n",
        "                                      class_mode=\"categorical\")"
      ]
    },
    {
      "cell_type": "markdown",
      "metadata": {
        "id": "SkBc3yrJpcXL"
      },
      "source": [
        "## Train the Model"
      ]
    },
    {
      "cell_type": "code",
      "execution_count": null,
      "metadata": {
        "id": "SYTvl9RypcXM",
        "colab": {
          "base_uri": "https://localhost:8080/"
        },
        "outputId": "0bdf7ead-1b92-4234-bbea-a8bd3ca1d63c"
      },
      "outputs": [
        {
          "output_type": "stream",
          "name": "stdout",
          "text": [
            "Epoch 1/10\n",
            "36/36 [==============================] - 450s 12s/step - loss: 2.2430 - accuracy: 0.5220 - val_loss: 1.1253 - val_accuracy: 0.6717\n",
            "Epoch 2/10\n",
            "36/36 [==============================] - 34s 914ms/step - loss: 0.7267 - accuracy: 0.7927 - val_loss: 0.6813 - val_accuracy: 0.8389\n",
            "Epoch 3/10\n",
            "36/36 [==============================] - 34s 920ms/step - loss: 0.3943 - accuracy: 0.8697 - val_loss: 0.5031 - val_accuracy: 0.8359\n",
            "Epoch 4/10\n",
            "36/36 [==============================] - 33s 905ms/step - loss: 0.2569 - accuracy: 0.9120 - val_loss: 0.3313 - val_accuracy: 0.8997\n",
            "Epoch 5/10\n",
            "36/36 [==============================] - 33s 901ms/step - loss: 0.1791 - accuracy: 0.9408 - val_loss: 0.2692 - val_accuracy: 0.9179\n",
            "Epoch 6/10\n",
            "36/36 [==============================] - 33s 895ms/step - loss: 0.1336 - accuracy: 0.9543 - val_loss: 0.2232 - val_accuracy: 0.9149\n",
            "Epoch 7/10\n",
            "36/36 [==============================] - 33s 890ms/step - loss: 0.1212 - accuracy: 0.9560 - val_loss: 0.1557 - val_accuracy: 0.9453\n",
            "Epoch 8/10\n",
            "36/36 [==============================] - 33s 901ms/step - loss: 0.1015 - accuracy: 0.9611 - val_loss: 0.2271 - val_accuracy: 0.9331\n",
            "Epoch 9/10\n",
            "36/36 [==============================] - 33s 897ms/step - loss: 0.0739 - accuracy: 0.9729 - val_loss: 0.2054 - val_accuracy: 0.9362\n",
            "Epoch 10/10\n",
            "36/36 [==============================] - 33s 892ms/step - loss: 0.0634 - accuracy: 0.9822 - val_loss: 0.1590 - val_accuracy: 0.9514\n"
          ]
        },
        {
          "output_type": "execute_result",
          "data": {
            "text/plain": [
              "<keras.src.callbacks.History at 0x7d6db0717520>"
            ]
          },
          "metadata": {},
          "execution_count": 10
        }
      ],
      "source": [
        "model.fit(train_it,\n",
        "          validation_data=valid_it,\n",
        "          steps_per_epoch=train_it.samples/train_it.batch_size,\n",
        "          validation_steps=valid_it.samples/valid_it.batch_size,\n",
        "          epochs=10)"
      ]
    },
    {
      "cell_type": "markdown",
      "metadata": {
        "id": "KjGG7Xr0pcXM"
      },
      "source": [
        "## Unfreeze Model for Fine Tuning"
      ]
    },
    {
      "cell_type": "code",
      "execution_count": null,
      "metadata": {
        "id": "nLwLcUTwpcXN"
      },
      "outputs": [],
      "source": [
        "#descongelar o modelo base\n",
        "base_model.trainable = True\n",
        "\n",
        "model.compile(optimizer=keras.optimizers.RMSprop(learning_rate = .00001),\n",
        "              loss='categorical_crossentropy',\n",
        "              metrics=['accuracy'])\n"
      ]
    },
    {
      "cell_type": "markdown",
      "metadata": {
        "id": "LTTtclVtpcXO"
      },
      "source": [
        "## Evaluate the Model"
      ]
    },
    {
      "cell_type": "markdown",
      "source": [
        "\"You will need to get the model to a validation accuracy of 92% in order to pass the assessment.\""
      ],
      "metadata": {
        "id": "6AX9zNXTtFYb"
      }
    },
    {
      "cell_type": "code",
      "execution_count": null,
      "metadata": {
        "id": "h8x_h2_ZpcXO",
        "colab": {
          "base_uri": "https://localhost:8080/"
        },
        "outputId": "fd4da7d2-4bb2-49eb-898f-0ce0b28bf7b2"
      },
      "outputs": [
        {
          "output_type": "stream",
          "name": "stdout",
          "text": [
            "10/10 [==============================] - 8s 792ms/step - loss: 0.2250 - accuracy: 0.9483\n",
            "Congratulations! You passed the assessment!\n"
          ]
        }
      ],
      "source": [
        "evaluation_result = model.evaluate(valid_it, steps=valid_it.samples/valid_it.batch_size)\n",
        "\n",
        "\n",
        "if evaluation_result[1] >= 0.92:\n",
        "    print(\"Congratulations! You passed the assessment!\")\n",
        "\n",
        "else:\n",
        "    print(\"Unfortunately, you did not pass the assessment. Try again.\")"
      ]
    }
  ],
  "metadata": {
    "kernelspec": {
      "display_name": "Python 3",
      "language": "python",
      "name": "python3"
    },
    "language_info": {
      "codemirror_mode": {
        "name": "ipython",
        "version": 3
      },
      "file_extension": ".py",
      "mimetype": "text/x-python",
      "name": "python",
      "nbconvert_exporter": "python",
      "pygments_lexer": "ipython3",
      "version": "3.6.9"
    },
    "colab": {
      "provenance": [],
      "machine_shape": "hm",
      "include_colab_link": true
    },
    "accelerator": "GPU"
  },
  "nbformat": 4,
  "nbformat_minor": 0
}